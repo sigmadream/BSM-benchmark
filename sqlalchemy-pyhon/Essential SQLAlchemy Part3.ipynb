{
 "cells": [
  {
   "cell_type": "code",
   "execution_count": 4,
   "outputs": [],
   "source": [
    "dal = DataAccessLayer()"
   ],
   "metadata": {
    "collapsed": false,
    "pycharm": {
     "name": "#%%\n"
    }
   }
  },
  {
   "cell_type": "code",
   "execution_count": 6,
   "outputs": [],
   "source": [
    "from sqlalchemy.sql import select"
   ],
   "metadata": {
    "collapsed": false,
    "pycharm": {
     "name": "#%%\n"
    }
   }
  },
  {
   "cell_type": "code",
   "execution_count": 7,
   "outputs": [],
   "source": [
    "def get_orders_by_customer(cust_name, shipped=None, details=False):\n",
    "    columns = [dal.orders.c.order_id, dal.users.c.username, dal.users.c.phone]\n",
    "    joins = dal.users.join(dal.orders)\n",
    "\n",
    "    if details:\n",
    "        columns.extend([dal.cookies.c.cookie_name,\n",
    "                        dal.line_items.c.quantity,\n",
    "                        dal.line_items.c.extended_cost])\n",
    "        joins = joins.join(dal.line_items).join(dal.cookies)\n",
    "\n",
    "    cust_orders = select(columns)\n",
    "    cust_orders = cust_orders.select_from(joins).where(\n",
    "        dal.users.c.username == cust_name)\n",
    "\n",
    "    if shipped is not None:\n",
    "        cust_orders = cust_orders.where(dal.orders.c.shipped == shipped)\n",
    "\n",
    "    return dal.connection.execute(cust_orders).fetchall()"
   ],
   "metadata": {
    "collapsed": false,
    "pycharm": {
     "name": "#%%\n"
    }
   }
  },
  {
   "cell_type": "code",
   "execution_count": 10,
   "outputs": [],
   "source": [
    "import unittest\n",
    "\n",
    "\n",
    "class TestApp(unittest.TestCase):\n",
    "\n",
    "    @classmethod\n",
    "    def setUpClass(cls):\n",
    "        dal.db_init('sqlite:///:memory:')\n",
    "\n",
    "    def test_orders_by_customer_blank(self):\n",
    "        results = get_orders_by_customer('')\n",
    "        self.assertEqual(results, [])\n",
    "\n",
    "    def test_orders_by_customer_blank_shipped(self):\n",
    "        results = get_orders_by_customer('', True)\n",
    "        self.assertEqual(results, [])\n",
    "\n",
    "    def test_orders_by_customer_blank_notshipped(self):\n",
    "        results = get_orders_by_customer('', False)\n",
    "        self.assertEqual(results, [])\n",
    "\n",
    "    def test_orders_by_customer_blank_details(self):\n",
    "        results = get_orders_by_customer('', details=True)\n",
    "        self.assertEqual(results, [])\n",
    "\n",
    "    def test_orders_by_customer_blank_shipped_details(self):\n",
    "        results = get_orders_by_customer('', True, True)\n",
    "        self.assertEqual(results, [])\n",
    "\n",
    "    def test_orders_by_customer_blank_notshipped_details(self):\n",
    "        results = get_orders_by_customer('', False, True)\n",
    "        self.assertEqual(results, [])"
   ],
   "metadata": {
    "collapsed": false,
    "pycharm": {
     "name": "#%%\n"
    }
   }
  },
  {
   "cell_type": "code",
   "execution_count": null,
   "outputs": [],
   "source": [],
   "metadata": {
    "collapsed": false,
    "pycharm": {
     "name": "#%%\n"
    }
   }
  }
 ],
 "metadata": {
  "kernelspec": {
   "display_name": "Python 3",
   "language": "python",
   "name": "python3"
  },
  "language_info": {
   "codemirror_mode": {
    "name": "ipython",
    "version": 2
   },
   "file_extension": ".py",
   "mimetype": "text/x-python",
   "name": "python",
   "nbconvert_exporter": "python",
   "pygments_lexer": "ipython2",
   "version": "2.7.6"
  }
 },
 "nbformat": 4,
 "nbformat_minor": 0
}